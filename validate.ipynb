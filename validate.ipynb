{
 "cells": [
  {
   "attachments": {},
   "cell_type": "markdown",
   "metadata": {},
   "source": [
    "# Social Security file Validator"
   ]
  },
  {
   "attachments": {},
   "cell_type": "markdown",
   "metadata": {},
   "source": [
    "## Imports\n"
   ]
  },
  {
   "cell_type": "code",
   "execution_count": null,
   "metadata": {},
   "outputs": [],
   "source": [
    "import os\n",
    "import subprocess\n",
    "import ipywidgets as widgets\n",
    "from IPython.display import FileLink, display\n",
    "from SPARQLWrapper import SPARQLWrapper, TURTLE"
   ]
  },
  {
   "attachments": {},
   "cell_type": "markdown",
   "metadata": {},
   "source": [
    "## Select declaration type and quarter\n",
    "\n",
    "Valid declaration type: \"dmfa\", \"dmfareq\"<br>Valid quarter: 20223, 20222, 20221"
   ]
  },
  {
   "cell_type": "code",
   "execution_count": null,
   "metadata": {},
   "outputs": [],
   "source": [
    "declTypeWidget = widgets.Dropdown(\n",
    "    options=['dmfa', 'dmfareq'],\n",
    "    value='dmfa',\n",
    ")\n",
    "\n",
    "quarterWidget = widgets.Dropdown(\n",
    "    options=['20223', '20222', '20221'],\n",
    "    value='20223',\n",
    ")\n",
    "display(declTypeWidget)\n",
    "display(quarterWidget)"
   ]
  },
  {
   "cell_type": "code",
   "execution_count": null,
   "metadata": {},
   "outputs": [],
   "source": [
    "declaration = declTypeWidget.value\n",
    "quarter = quarterWidget.value"
   ]
  },
  {
   "attachments": {},
   "cell_type": "markdown",
   "metadata": {},
   "source": [
    "## Input file to validate"
   ]
  },
  {
   "attachments": {},
   "cell_type": "markdown",
   "metadata": {},
   "source": [
    "Filepath"
   ]
  },
  {
   "cell_type": "code",
   "execution_count": null,
   "metadata": {},
   "outputs": [],
   "source": [
    "filepath = input() # ex: valid_dmfa.ttl, invalid_dmfa.ttl\n",
    "\n",
    "if os.path.isfile(filepath):\n",
    "    print(\"File exists\")    \n",
    "else:\n",
    "    print(\"File does not exist\")"
   ]
  },
  {
   "attachments": {},
   "cell_type": "markdown",
   "metadata": {},
   "source": [
    "File Upload"
   ]
  },
  {
   "cell_type": "code",
   "execution_count": null,
   "metadata": {},
   "outputs": [],
   "source": [
    "uploader = widgets.FileUpload(multiple=False)\n",
    "display(uploader)"
   ]
  },
  {
   "cell_type": "code",
   "execution_count": null,
   "metadata": {},
   "outputs": [],
   "source": [
    "uploadsDir = \"uploads\"\n",
    "\n",
    "if not os.path.exists(uploadsDir):\n",
    "    os.makedirs(uploadsDir)\n",
    "\n",
    "if uploader.value:\n",
    "    fileDict = next(iter(uploader.value))\n",
    "    print(fileDict)\n",
    "    filename = fileDict[\"name\"]\n",
    "    fileContent = fileDict[\"content\"]\n",
    "\n",
    "    filepath = os.path.join(uploadsDir, filename)\n",
    "    with open(filepath, \"wb\") as file:\n",
    "        file.write(fileContent)"
   ]
  },
  {
   "attachments": {},
   "cell_type": "markdown",
   "metadata": {},
   "source": [
    "## Input output file name"
   ]
  },
  {
   "cell_type": "code",
   "execution_count": null,
   "metadata": {},
   "outputs": [],
   "source": [
    "outfilename = input() #ex: validation_report.ttl"
   ]
  },
  {
   "attachments": {},
   "cell_type": "markdown",
   "metadata": {},
   "source": [
    "## Input triple store endpoint"
   ]
  },
  {
   "cell_type": "code",
   "execution_count": null,
   "metadata": {},
   "outputs": [],
   "source": [
    "endpoint = \"http://localhost:3030/socialsecurity\""
   ]
  },
  {
   "cell_type": "markdown",
   "metadata": {},
   "source": [
    "Insert declaration"
   ]
  },
  {
   "cell_type": "code",
   "execution_count": null,
   "metadata": {},
   "outputs": [],
   "source": [
    "import requests\n",
    "\n",
    "headers = {\"Content-Type\": \"text/turtle\"}\n",
    "\n",
    "with open(filepath, \"rb\") as ttl_file:\n",
    "    content = ttl_file.read()\n",
    "\n",
    "response = requests.post(endpoint, data=content, headers=headers)\n",
    "\n",
    "if response.status_code == 200:\n",
    "    print(\"Declaration inserted correctly.\")\n",
    "else:\n",
    "    print(f\"Failed to insert declaration. Status code: {response.status_code}\")\n",
    "    print(response.text)"
   ]
  },
  {
   "attachments": {},
   "cell_type": "markdown",
   "metadata": {},
   "source": [
    "## Validation"
   ]
  },
  {
   "cell_type": "code",
   "execution_count": null,
   "metadata": {},
   "outputs": [],
   "source": [
    "# SPARQL endpoint setup\n",
    "from SPARQLWrapper import SPARQLWrapper, TURTLE\n",
    "sparql = SPARQLWrapper(endpoint)\n",
    "sparql.setReturnFormat(TURTLE)"
   ]
  },
  {
   "attachments": {},
   "cell_type": "markdown",
   "metadata": {},
   "source": [
    "Creating data graph\n"
   ]
  },
  {
   "cell_type": "code",
   "execution_count": null,
   "metadata": {},
   "outputs": [],
   "source": [
    "# Copy input file\n",
    "import shutil\n",
    "datagraphFilepath = filepath.split(\".\")[0] + \"_datagraph_tmp.ttl\"\n",
    "shutil.copy(filepath, datagraphFilepath)\n",
    "\n",
    "# CONSTRUCT{\n",
    "# \t?s ?p ?o.\n",
    "# }\n",
    "# FROM <http://kg.socialsecurity.be/resource/annex2/>\n",
    "# FROM <http://kg.socialsecurity.be/resource/annex4/>\n",
    "# FROM <http://kg.socialsecurity.be/resource/annex6/>\n",
    "# FROM <http://kg.socialsecurity.be/resource/annex7/>\n",
    "# FROM <http://kg.socialsecurity.be/resource/annex8/>\n",
    "# FROM <http://kg.socialsecurity.be/resource/annex9/>\n",
    "# FROM <http://kg.socialsecurity.be/resource/annex10/>\n",
    "# FROM <http://kg.socialsecurity.be/resource/annex11/>\n",
    "# FROM <http://kg.socialsecurity.be/resource/annex21/>\n",
    "# FROM <http://kg.socialsecurity.be/resource/annex27/>\n",
    "# FROM <http://kg.socialsecurity.be/resource/annex28/>\n",
    "# FROM <http://kg.socialsecurity.be/resource/annex31/>\n",
    "# FROM <http://kg.socialsecurity.be/resource/annex35/>\n",
    "# FROM <http://kg.socialsecurity.be/resource/annex42/>\n",
    "# FROM <http://kg.socialsecurity.be/resource/annex43/>\n",
    "# FROM <http://kg.socialsecurity.be/resource/annex44/>\n",
    "# FROM <http://kg.socialsecurity.be/resource/annex45/>\n",
    "# FROM <http://kg.socialsecurity.be/resource/annex46/>\n",
    "# FROM <http://kg.socialsecurity.be/resource/dmfas02/>\n",
    "# WHERE{\n",
    "# \t?s ?p ?o.\n",
    "# }\n",
    "# \"\"\"\n",
    "\n",
    "# Fetch and append annexes\n",
    "FETCH_ANNEXES_QUERY = \"\"\"\n",
    "CONSTRUCT {\n",
    "  ?s ?p ?o.\n",
    "}\n",
    "WHERE {\n",
    "  {\n",
    "    SERVICE <http://localhost:2000/annex00> {\n",
    "      {\n",
    "        GRAPH <http://kg.socialsecurity.be/resource/annex2/> {\n",
    "          ?s ?p ?o.\n",
    "        }\n",
    "      }\n",
    "      UNION\n",
    "      {\n",
    "        GRAPH <http://kg.socialsecurity.be/resource/annex4/> {\n",
    "          ?s ?p ?o.\n",
    "        }\n",
    "      }\n",
    "      UNION\n",
    "      {\n",
    "        GRAPH <http://kg.socialsecurity.be/resource/annex6/> {\n",
    "          ?s ?p ?o.\n",
    "        }\n",
    "      }\n",
    "      UNION\n",
    "      {\n",
    "        GRAPH <http://kg.socialsecurity.be/resource/annex7/> {\n",
    "          ?s ?p ?o.\n",
    "        }\n",
    "      }\n",
    "      UNION\n",
    "      {\n",
    "        GRAPH <http://kg.socialsecurity.be/resource/annex8/> {\n",
    "          ?s ?p ?o.\n",
    "        }\n",
    "      }\n",
    "      UNION\n",
    "      {\n",
    "        GRAPH <http://kg.socialsecurity.be/resource/annex9/> {\n",
    "          ?s ?p ?o.\n",
    "        }\n",
    "      }\n",
    "    }\n",
    "  }\n",
    "  UNION\n",
    "  {\n",
    "    SERVICE <http://localhost:2010/annex10> {\n",
    "      {\n",
    "        GRAPH <http://kg.socialsecurity.be/resource/annex10/> {\n",
    "          ?s ?p ?o.\n",
    "        }\n",
    "      }\n",
    "      UNION\n",
    "      {\n",
    "        GRAPH <http://kg.socialsecurity.be/resource/annex11/> {\n",
    "          ?s ?p ?o.\n",
    "        }\n",
    "      }\n",
    "    }\n",
    "  }\n",
    "}\n",
    "\"\"\"\n",
    "\n",
    "sparql.setQuery(FETCH_ANNEXES_QUERY)\n",
    "response = sparql.queryAndConvert().decode(\"utf-8\")\n",
    "\n",
    "datagraph = open(datagraphFilepath, mode=\"a\", encoding=\"utf-8\")\n",
    "datagraph.write(\"\\n\" + response)\n",
    "datagraph.close()"
   ]
  },
  {
   "attachments": {},
   "cell_type": "markdown",
   "metadata": {},
   "source": [
    "Creating shape graph\n"
   ]
  },
  {
   "cell_type": "code",
   "execution_count": null,
   "metadata": {},
   "outputs": [],
   "source": [
    "FETCH_SHAPES_QUERY = \"\"\"\n",
    "CONSTRUCT{{\n",
    "\t?s ?p ?o.\n",
    "}}\n",
    "FROM <http://kg.socialsecurity.be/resource/shapes/common/{0}/>\n",
    "FROM <http://kg.socialsecurity.be/resource/shapes/{1}/{0}/>\n",
    "WHERE{{\n",
    "\t?s ?p ?o.\n",
    "}}\n",
    "\"\"\"\n",
    "\n",
    "sparql.setQuery(FETCH_SHAPES_QUERY.format(quarter, declaration))\n",
    "response = sparql.queryAndConvert().decode(\"utf-8\")\n",
    "\n",
    "shapegraphFilename = \"shapes_tmp.ttl\"\n",
    "shapegraph = open(shapegraphFilename, mode=\"w\", encoding=\"utf-8\")\n",
    "shapegraph.write(response)\n",
    "shapegraph.close()"
   ]
  },
  {
   "attachments": {},
   "cell_type": "markdown",
   "metadata": {},
   "source": [
    "Validate data graph against shape graph with TopBraid\n"
   ]
  },
  {
   "cell_type": "code",
   "execution_count": null,
   "metadata": {},
   "outputs": [],
   "source": [
    "downloadsDir = \"downloads\"\n",
    "\n",
    "if not os.path.exists(downloadsDir):\n",
    "    os.makedirs(downloadsDir)\n",
    "\n",
    "outfilepath = os.path.join(downloadsDir, outfilename)\n",
    "\n",
    "command = \"shaclvalidate.sh -datafile {} -shapesfile {}  > {}\".format(datagraphFilepath, shapegraphFilename, outfilepath)\n",
    "subprocess.run(command, shell=True)\n",
    "download_link = FileLink(outfilepath, result_html_prefix=\"Click here to download: \")\n",
    "display(download_link)"
   ]
  },
  {
   "attachments": {},
   "cell_type": "markdown",
   "metadata": {},
   "source": [
    "## Clean up"
   ]
  },
  {
   "cell_type": "code",
   "execution_count": null,
   "metadata": {},
   "outputs": [],
   "source": [
    "os.remove(datagraphFilepath)\n",
    "os.remove(shapegraphFilename)"
   ]
  }
 ],
 "metadata": {
  "kernelspec": {
   "display_name": "Python 3 (ipykernel)",
   "language": "python",
   "name": "python3"
  },
  "language_info": {
   "codemirror_mode": {
    "name": "ipython",
    "version": 3
   },
   "file_extension": ".py",
   "mimetype": "text/x-python",
   "name": "python",
   "nbconvert_exporter": "python",
   "pygments_lexer": "ipython3",
   "version": "3.9.7"
  },
  "vscode": {
   "interpreter": {
    "hash": "7a92bdcd15ac16c82c3846eaa14bb6c0e2c1583cbb3b011da5cf30fead1f2921"
   }
  }
 },
 "nbformat": 4,
 "nbformat_minor": 2
}
