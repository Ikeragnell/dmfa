{
 "cells": [
  {
   "attachments": {},
   "cell_type": "markdown",
   "metadata": {},
   "source": [
    "# DmfA XML to RDF"
   ]
  },
  {
   "attachments": {},
   "cell_type": "markdown",
   "metadata": {},
   "source": [
    "## Imports"
   ]
  },
  {
   "cell_type": "code",
   "execution_count": null,
   "metadata": {},
   "outputs": [],
   "source": [
    "import os\n",
    "import subprocess\n",
    "import ipywidgets as widgets\n",
    "from IPython.display import FileLink\n",
    "from SPARQLWrapper import SPARQLWrapper, TURTLE"
   ]
  },
  {
   "attachments": {},
   "cell_type": "markdown",
   "metadata": {},
   "source": [
    "## Input file to tranform"
   ]
  },
  {
   "attachments": {},
   "cell_type": "markdown",
   "metadata": {},
   "source": [
    "Filepath"
   ]
  },
  {
   "cell_type": "code",
   "execution_count": null,
   "metadata": {},
   "outputs": [],
   "source": [
    "filepath = input() # ex: ./DMFA/DmfAExamples/Linked_DmfAOriginal_20223_1_Corrected.xml\n",
    "\n",
    "if os.path.isfile(filepath):\n",
    "    print(\"File exists\")    \n",
    "else:\n",
    "    print(\"File does not exist\")"
   ]
  },
  {
   "attachments": {},
   "cell_type": "markdown",
   "metadata": {},
   "source": [
    "File Upload"
   ]
  },
  {
   "cell_type": "code",
   "execution_count": null,
   "metadata": {},
   "outputs": [],
   "source": [
    "uploader = widgets.FileUpload(multiple=False)\n",
    "display(uploader)"
   ]
  },
  {
   "cell_type": "code",
   "execution_count": null,
   "metadata": {},
   "outputs": [],
   "source": [
    "uploadsDir = \"uploads\"\n",
    "\n",
    "if not os.path.exists(uploadsDir):\n",
    "    os.makedirs(uploadsDir)\n",
    "\n",
    "if uploader.value:\n",
    "    fileDict = next(iter(uploader.value))\n",
    "    filename = fileDict[\"name\"]\n",
    "    fileContent = fileDict[\"content\"]\n",
    "\n",
    "    filepath = os.path.join(uploadsDir, filename)\n",
    "    with open(filepath, \"wb\") as file:\n",
    "        file.write(fileContent)"
   ]
  },
  {
   "attachments": {},
   "cell_type": "markdown",
   "metadata": {},
   "source": [
    "## Input output file name"
   ]
  },
  {
   "cell_type": "code",
   "execution_count": null,
   "metadata": {},
   "outputs": [],
   "source": [
    "outfilename = input() #ex: valid_dmfa.ttl"
   ]
  },
  {
   "attachments": {},
   "cell_type": "markdown",
   "metadata": {},
   "source": [
    "## Input reference (optional)"
   ]
  },
  {
   "cell_type": "code",
   "execution_count": null,
   "metadata": {},
   "outputs": [],
   "source": [
    "reference = input() #ex: 000, 111\n",
    "\n",
    "if not reference:\n",
    "    reference = \"NOREF\""
   ]
  },
  {
   "attachments": {},
   "cell_type": "markdown",
   "metadata": {},
   "source": [
    "## Input triple store endpoint"
   ]
  },
  {
   "cell_type": "code",
   "execution_count": null,
   "metadata": {},
   "outputs": [],
   "source": [
    "endpoint = \"http://localhost:3030/socialsecurity\""
   ]
  },
  {
   "attachments": {},
   "cell_type": "markdown",
   "metadata": {},
   "source": [
    "## Tranformation"
   ]
  },
  {
   "cell_type": "code",
   "execution_count": null,
   "metadata": {},
   "outputs": [],
   "source": [
    "# SPARQL endpoint setup\n",
    "sparql = SPARQLWrapper(endpoint)\n",
    "sparql.setReturnFormat(TURTLE)"
   ]
  },
  {
   "attachments": {},
   "cell_type": "markdown",
   "metadata": {},
   "source": [
    "Fetch mappings graph\n"
   ]
  },
  {
   "cell_type": "code",
   "execution_count": null,
   "metadata": {},
   "outputs": [],
   "source": [
    "# Create mapping annexes\n",
    "FETCH_MAPPING_QUERY = \"\"\"\n",
    "PREFIX rml: <http://semweb.mmlab.be/ns/rml#>\n",
    "PREFIX rr: <http://www.w3.org/ns/r2rml#>\n",
    "\n",
    "CONSTRUCT {{\n",
    "  ?s ?p ?o.\n",
    "  ?LogicalSource rml:source \"{0}\" .\n",
    "  ?sm rr:template ?newtemplate .\n",
    "}}\n",
    "FROM <http://kg.socialsecurity.be/resource/mappings/dmfaxml/>\n",
    "WHERE {{\n",
    "  {{\n",
    "    ?LogicalSource rml:source ?source.\n",
    "  }}\n",
    "  UNION\n",
    "  {{\n",
    "    ?tm rr:subjectMap ?sm.\n",
    "    ?sm rr:template ?template.\n",
    "    BIND ( REPLACE(?template, \"NOREF\", \"{1}\") as ?newtemplate)  \n",
    "  }}\n",
    "  UNION\n",
    "  {{\n",
    "    ?s ?p ?o.\n",
    "    FILTER (?p != rml:source)\n",
    "    MINUS {{\n",
    "      ?tm rr:subjectMap ?s.\n",
    "      ?s rr:template ?o.\n",
    "    }}\n",
    "  }}\n",
    "}}\n",
    "\"\"\"\n",
    "\n",
    "sparql.setQuery(FETCH_MAPPING_QUERY.format(filepath, reference))\n",
    "response = sparql.queryAndConvert().decode(\"utf-8\")\n",
    "\n",
    "mapppingsFilename = \"mappingsTmp.ttl\"\n",
    "mapppings = open(mapppingsFilename, \"w\", encoding=\"utf-8\")\n",
    "mapppings.write(\"\\n\" + response)\n",
    "mapppings.close()"
   ]
  },
  {
   "attachments": {},
   "cell_type": "markdown",
   "metadata": {},
   "source": [
    "Create RDF graph with RMLMapper"
   ]
  },
  {
   "cell_type": "code",
   "execution_count": null,
   "metadata": {},
   "outputs": [],
   "source": [
    "downloadsDir = \"downloads\"\n",
    "\n",
    "if not os.path.exists(downloadsDir):\n",
    "    os.makedirs(downloadsDir)\n",
    "\n",
    "outfilepath = os.path.join(downloadsDir, outfilename)\n",
    "\n",
    "command = \"java -jar ./package/rmlmapper/rmlmapper.jar -m {}  > {}\".format(mapppingsFilename, outfilepath)\n",
    "subprocess.run(command, shell=True)\n",
    "\n",
    "download_link = FileLink(outfilepath, result_html_prefix=\"Click here to download: \")\n",
    "display(download_link)"
   ]
  },
  {
   "attachments": {},
   "cell_type": "markdown",
   "metadata": {},
   "source": [
    "## Clean up"
   ]
  },
  {
   "cell_type": "code",
   "execution_count": null,
   "metadata": {},
   "outputs": [],
   "source": [
    "os.remove(mapppingsFilename)"
   ]
  }
 ],
 "metadata": {
  "kernelspec": {
   "display_name": "Python 3 (ipykernel)",
   "language": "python",
   "name": "python3"
  },
  "language_info": {
   "codemirror_mode": {
    "name": "ipython",
    "version": 3
   },
   "file_extension": ".py",
   "mimetype": "text/x-python",
   "name": "python",
   "nbconvert_exporter": "python",
   "pygments_lexer": "ipython3",
   "version": "3.9.7"
  },
  "vscode": {
   "interpreter": {
    "hash": "7a92bdcd15ac16c82c3846eaa14bb6c0e2c1583cbb3b011da5cf30fead1f2921"
   }
  }
 },
 "nbformat": 4,
 "nbformat_minor": 2
}
